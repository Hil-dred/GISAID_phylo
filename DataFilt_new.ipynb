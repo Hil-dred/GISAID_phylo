{
 "cells": [
  {
   "cell_type": "code",
   "execution_count": 1,
   "metadata": {},
   "outputs": [],
   "source": [
    "import pandas as pd\n",
    "import Bio\n",
    "from Bio import SeqIO\n",
    "from functools import reduce"
   ]
  },
  {
   "cell_type": "code",
   "execution_count": 2,
   "metadata": {},
   "outputs": [],
   "source": [
    "#Reading the clinical data\n",
    "clinical_data2 = pd.read_csv('gisaid_hcov-19_table.tsv', delimiter ='\\t')\n",
    "#adding undersccore to column names\n",
    "clinical_data2.columns = [c.replace(' ','_') for c in clinical_data2.columns]"
   ]
  },
  {
   "cell_type": "code",
   "execution_count": 3,
   "metadata": {},
   "outputs": [],
   "source": [
    "clinical_data_filt2 = clinical_data2.dropna(how='any', subset =['Patient_status'])\n",
    "clinical_data_filt3 = clinical_data_filt2.dropna(how='any', subset =['Patient_age'])"
   ]
  },
  {
   "cell_type": "code",
   "execution_count": 4,
   "metadata": {},
   "outputs": [],
   "source": [
    "#Removing samples with unknown patient status\n",
    "\n",
    "missing1 = clinical_data_filt3[clinical_data_filt3.Patient_status == 'unknown ']\n",
    "missing2 = clinical_data_filt3[clinical_data_filt3.Patient_status == 'Not known']\n",
    "missing3 = clinical_data_filt3[clinical_data_filt3.Patient_status == 'unkown']\n",
    "missing4 = clinical_data_filt3[clinical_data_filt3.Patient_status == ' unknown']\n",
    "missing5 = clinical_data_filt3[clinical_data_filt3.Patient_status == 'unknow']\n",
    "missing6 = clinical_data_filt3[clinical_data_filt3.Patient_status == 'Unknow']\n",
    "missing7 = clinical_data_filt3[clinical_data_filt3.Patient_status == '\\ufeffunknown']\n",
    "missing8 = clinical_data_filt3[clinical_data_filt3.Patient_status == '-']\n",
    "missing9 = clinical_data_filt3[clinical_data_filt3.Patient_status == 'uncknown']\n",
    "missing10 = clinical_data_filt3[clinical_data_filt3.Patient_status == 'Unkown']\n",
    "#Removing samples for non human host\n",
    "\n",
    "missing11 = clinical_data_filt3[clinical_data_filt3.Host == 'Environment']\n",
    "missing12 = clinical_data_filt3[clinical_data_filt3.Host == 'Panthera tigris jacksoni']\n",
    "\n",
    "#Removing sample with bad sequence\n",
    "\n",
    "missing13 = clinical_data_filt3[clinical_data_filt3.Accession_ID == 'EPI_ISL_494759']\n",
    "\n",
    "#Removing samples with unknown patient age\n",
    "\n",
    "missing14 = clinical_data_filt3[clinical_data_filt3.Patient_age == 'unknown']\n",
    "missing15 = clinical_data_filt3[clinical_data_filt3.Patient_age == 'Unknown']\n",
    "\n",
    "#Removing samples with bad age \n",
    "missing16 = clinical_data_filt3[clinical_data_filt3.Patient_age == 'unkown']"
   ]
  },
  {
   "cell_type": "code",
   "execution_count": 5,
   "metadata": {},
   "outputs": [],
   "source": [
    "ind = []\n",
    "for i in range(1,17):\n",
    "    ind.append(list(globals()[\"missing\" + str(i)].index))"
   ]
  },
  {
   "cell_type": "code",
   "execution_count": 6,
   "metadata": {},
   "outputs": [],
   "source": [
    "single_list = reduce(lambda x,y: x+y, ind)"
   ]
  },
  {
   "cell_type": "code",
   "execution_count": 7,
   "metadata": {},
   "outputs": [],
   "source": [
    "single_set = set(single_list)\n",
    "clinical_data_filt4 = clinical_data_filt3.drop(single_set)"
   ]
  },
  {
   "cell_type": "code",
   "execution_count": 8,
   "metadata": {},
   "outputs": [],
   "source": [
    "clinical_data_filt4.to_csv('gisaid_hcov-clinical_filt.tsv', sep ='\\t', index = False)"
   ]
  },
  {
   "cell_type": "code",
   "execution_count": 9,
   "metadata": {},
   "outputs": [],
   "source": [
    "new_ids =list(clinical_data_filt4[\"Accession_ID\"])"
   ]
  },
  {
   "cell_type": "code",
   "execution_count": 10,
   "metadata": {},
   "outputs": [],
   "source": [
    "new_file = open('gisaid_hcov-19_filt.fasta','w')\n",
    "j = 0\n",
    "for records in SeqIO.parse('gisaid_hcov-19_2020_08_17_14.fasta','fasta'):\n",
    "    for i in new_ids:\n",
    "        if i in records.description:\n",
    "            j += 1\n",
    "            new_file.write('>'+ i + ' | ' + records.description.split('/')[1] + str(j))\n",
    "            new_file.write('\\n')\n",
    "            new_file.write(str(records.seq))\n",
    "            new_file.write('\\n')             "
   ]
  },
  {
   "cell_type": "code",
   "execution_count": 11,
   "metadata": {},
   "outputs": [],
   "source": [
    "new_file.close()"
   ]
  },
  {
   "cell_type": "code",
   "execution_count": null,
   "metadata": {},
   "outputs": [],
   "source": []
  }
 ],
 "metadata": {
  "kernelspec": {
   "display_name": "Python 3",
   "language": "python",
   "name": "python3"
  },
  "language_info": {
   "codemirror_mode": {
    "name": "ipython",
    "version": 3
   },
   "file_extension": ".py",
   "mimetype": "text/x-python",
   "name": "python",
   "nbconvert_exporter": "python",
   "pygments_lexer": "ipython3",
   "version": "3.7.7"
  }
 },
 "nbformat": 4,
 "nbformat_minor": 4
}
